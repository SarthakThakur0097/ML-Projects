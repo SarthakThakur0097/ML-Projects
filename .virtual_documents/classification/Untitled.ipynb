import pandas as pd
from sklearn.datasets import fetch_openml 
mnist = fetch_openml('mnist_784', version=1) 
mnist.keys()
get_ipython().run_line_magic("config", " IPCompleter.greedy=True")


X, y = mnist['data'], mnist['target']

some_digit = X.iloc[0].to_numpy()
some_digit_image = some_digit.reshape(28, 28)




import matplotlib as mpl 
import matplotlib.pyplot as plt

plt.imshow(some_digit_image, cmap='binary')
plt.axis('off')
plt.show()


X_train, X_test, y_train, y_test = X[:60000], X[60000:], y[:60000], y[60000:]



y_train


from sklearn.linear_model import SGDClassifier

# Create binary classification labels
y_train_5 = (y_train.astype(int) == 5)
y_test_5 = (y_test.astype(int) == 5)

# Create and fit the classifier
model = SGDClassifier(random_state=42)
model.fit(X_train, y_train_5)


model.predict([some_digit])


y_train[0]


from sklearn.model_selection import StratifiedKFold
from sklearn.base import clone 


skfolds = StratifiedKFold(n_splits=3, shuffle=True, random_state=42)

for train_index, test_index in skfolds.split(X_train, y_train_5):
    clone_clf = clone(model)
    X_train_fold = X_train.iloc[train_index]
    y_train_fold = y_train_5.iloc[train_index]
    X_test_fold = X_train.iloc[test_index]
    y_test_fold = y_train_5.iloc[test_index]

    clone_clf.fit(X_train_fold, y_train_fold)
    y_pred = clone_clf.predict(X_test_fold)
    n_correct = sum(y_pred == y_test_fold)
    print(f"Accuracy: {n_correct / len(y_pred)}")



from sklearn.model_selection import cross_val_score

cvs = cross_val_score(model, X_train, y_train_5, cv=3, scoring='accuracy')


cvs


from sklearn.model_selection import cross_val_predict
from sklearn.metrics import confusion_matrix

y_preds = cross_val_predict(model, X_train, y_train_5, cv=3)

coff_matrix = confusion_matrix(y_train_5, y_preds)


coff_matrix


from sklearn.metrics import precision_score, recall_score
precision_score(y_train_5, y_preds)



from sklearn.metrics import f1_score
f1_score(y_train_5, y_preds)


y_scores = model.decision_function([some_digit])
y_scores


threshold = 0 
y_some_digit_pred = (y_scores > threshold)


y_some_digit_pred


threshold = 8000
y_some_digit_pred = (y_scores > threshold)
y_some_digit_pred


y_scores = cross_val_predict(model, X_train, y_train_5, cv=3,
                             method='decision_function')

from sklearn.metrics import precision_recall_curve

precisions, recalls, thresholds = precision_recall_curve(y_train_5, y_scores)


def plot_precision_recall_vs_threshold(precisions, recalls, thresholds):
    plt.plot(thresholds, precisions[:-1], 'b--', label='Precision')
    plt.plot(thresholds, recalls[:-1], 'g-', label='Recall')
    plt.xlabel('Threshold')
    plt.ylabel('Score')
    plt.legend()
    plt.grid(True)

# Replace 'precisions', 'recalls', and 'thresholds' with the actual data
# precisions = ...
# recalls = ...
# thresholds = ...

plot_precision_recall_vs_threshold(precisions, recalls, thresholds)
plt.show()


import numpy as np
threshold_90_precision = thresholds[np.argmax(precisions >= 0.90)]

y_train_pred_90 = (y_scores >= threshold_90_precision)

precision_score(y_train_5, y_train_pred_90)


recall_score(y_train_5, y_train_pred_90)


from sklearn.metrics import roc_curve

fpr, tpr, thresholds = roc_curve(y_train_5, y_scores)


def plot_roc_curve(fpr, tpr, label=None):
    plt.plot(fpr, tpr, linewidth=2, label=label)
    plt.plot([0, 1], [0,1], 'k--')
    plt.xlabel('False Positive Rate')
    plt.ylabel('True Positive Rate (Recall)')
    plt.legend()
    plt.grid(True)
    
plot_roc_curve(fpr,tpr, label='ROC CURVE')
plt.show()

# Add axis labels and grid





from sklearn.metrics import roc_auc_score

roc_auc_score(y_train_5, y_scores)


from sklearn.ensemble import RandomForestClassifier

rfc = RandomForestClassifier(random_state=42)

rfc_cv = cross_val_predict(rfc, X_train, y_train_5, cv=3,
                        method='predict_proba')


rfc_cv


y_scores_forest = rfc_cv[:, 1] 
fpr_forest, tpr_forest, thresholds_forest = roc_curve(y_train_5, y_scores_forest)


plt.plot(fpr, tpr, 'b:', label='SGD')
plot_roc_curve(fpr_forest, tpr_forest, "Random Forest")
plt.legend(loc='lower right')
plt.show()


roc_auc_score(y_train_5, y_scores_forest)


from sklearn.svm import SVC

svm_clf = SVC()
svm_clf.fit(X_train, y_train)
svm_clf.predict([some_digit])



some_digit_scores = svm_clf.decision_function([some_digit])
some_digit_scores


np.argmax(some_digit_scores)


from sklearn.multiclass import OneVsRestClassifier
ovr_clf = OneVsRestClassifier(SVC())
ovr_clf.fit(X_train, y_train)
ovr_clf.predict([some_digit])

len(ovr_clf.estimators_)


model.fit(X_train, y_train)
model.predict([some_digit])

model.decision_function([some_digit])


cross_val_score(model, X_train, y_train, cv=3, scoring='accuracy')


from sklearn.preprocessing import StandardScaler
scaler = StandardScaler()
X_train_scaled = scaler.fit_transform(X_train.astype(np.float64))
cross_val_score(model, X_train_scaled, y_train, cv=3, scoring='accuracy')


y_train_pred = cross_val_predict(model, X_train_scaled, y_train, cv=3) 
conf_mx = confusion_matrix(y_train, y_train_pred)
conf_mx


plt.matshow(conf_mx, cmap=plt.cm.gray)
plt.show()


row_sums = conf_mx.sum(axis=1, keepdims=True)
norm_conf_mx = conf_mx / row_sums


np.fill_diagonal(norm_conf_mx, 0) 
plt.matshow(norm_conf_mx, cmap=plt.cm.gray)
plt.show()


def plot_digit(data):
    image = data.values.reshape(28, 28)
    plt.imshow(image, cmap = mpl.cm.binary,
               interpolation="nearest")
    plt.axis("off")
    
def plot_digits(instances, images_per_row=10, **options):
    size = 28
    images_per_row = min(len(instances), images_per_row)
    # This is equivalent to n_rows = ceil(len(instances) / images_per_row):
    n_rows = (len(instances) - 1) // images_per_row + 1

    # Append empty images to fill the end of the grid, if needed:
    n_empty = n_rows * images_per_row - len(instances)
    padded_instances = np.concatenate([instances, np.zeros((n_empty, size * size))], axis=0)

    # Reshape the array so it's organized as a grid containing 28×28 images:
    image_grid = padded_instances.values.reshape((n_rows, images_per_row, size, size))

    # Combine axes 0 and 2 (vertical image grid axis, and vertical image axis),
    # and axes 1 and 3 (horizontal axes). We first need to move the axes that we
    # want to combine next to each other, using transpose(), and only then we
    # can reshape:
    big_image = image_grid.transpose(0, 2, 1, 3).values.reshape(n_rows * size,
                                                         images_per_row * size)
    # Now that we have a big image, we just need to show it:
    plt.imshow(big_image, cmap = mpl.cm.binary, **options)
    plt.axis("off")
    
cl_a, cl_b = 3, 5
X_aa = X_train[(y_train == cl_a) & (y_train_pred == cl_a)]
X_ab = X_train[(y_train == cl_a) & (y_train_pred == cl_b)]
X_ba = X_train[(y_train == cl_b) & (y_train_pred == cl_a)]
X_bb = X_train[(y_train == cl_b) & (y_train_pred == cl_b)]

plt.figure(figsize=(8,8))
plt.subplot(221); plot_digits(X_aa[:25], images_per_row=5)
plt.subplot(222); plot_digits(X_ab[:25], images_per_row=5)
plt.subplot(223); plot_digits(X_ba[:25], images_per_row=5)
plt.subplot(224); plot_digits(X_bb[:25], images_per_row=5)
save_fig("error_analysis_digits_plot")
plt.show()


from sklearn.neighbors import KNeighborsClassifier 
y_train_numerical = y_train.astype(int)
y_train_large = (y_train_numerical == 7)  # Equality comparison
y_train_odd = (y_train_numerical % 2 == 1)
y_multilabel = np.c_[y_train_large, y_train_odd]

knn_clf = KNeighborsClassifier() 
knn_clf.fit(X_train, y_multilabel)




knn_clf.predict([some_digit])


y_train_knn_pred = cross_val_predict(knn_clf, X_train, y_multilabel, cv=3)
f1_score(y_multilabel, y_train_knn_pred, average='macro')


noise = np.random.randint(0, 100, (len(X_train), 784))
X_train_mod = X_train +noise
noise = np.random.randint(0, 100, (len(X_test), 784))
X_test_mod = X_test + noise
y_train_mod = X_train
y_test_mod = X_test




knn_clf.fit(X_train_mod, y_train_mod)
clean_digit = knn_clf.predict([X_test_mod[some_index]])
plot_digit(clean_digit)


from sklearn.model_selection import train_test_split, GridSearchCV
from sklearn.pipeline import Pipeline
from sklearn.neighbors import KNeighborsClassifier 

knn_clf = KNeighborsClassifier() 

pipeline = Pipeline([('knnclf', knn_clf)])
param_grid = [{'knnclf__weights': ["uniform", "distance"], 'knnclf__n_neighbors': [3, 4, 5]}]

X_train, X_test, y_train, y_test = train_test_split(X, y, test_size=0.2,
                                                    random_state=42)

gs = GridSearchCV(pipeline, param_grid=param_grid)
gs.fit(X_train, y_train)


gs.score(X_test, y_test)


from sklearn.metrics import accuracy_score

y_preds = gs.predict(X_test)

score = accuracy_score(y_test, y_preds)
score


from scipy.ndimage import shift
import numpy as np
import matplotlib as mpl 
import matplotlib.pyplot as plt

def plot_digit_s(data):
        image = data.values.reshape(28, 28)
        plt.imshow(image, cmap = mpl.cm.binary,
        interpolation="nearest")
        plt.axis("off")
        
def plot_digit_n(data):
        image = data.reshape(28, 28)
        plt.imshow(image, cmap = mpl.cm.binary,
        interpolation="nearest")
        plt.axis("off")

#shifted_array = shift(input_array, shift_amount

plot_digit_s(X.iloc[0])



def shift_digit(digit_array, dx, dy, new=0):
    return shift(digit_array.reshape(28, 28), [dy, dx], cval=new).reshape(784)

plot_digit_n(shift_digit(some_digit, -1, -1, new=100))


X_reshaped = X.iloc[0].values.reshape(28, 28)

X_reshaped.shape


X_train_expanded = [X_train]
y_train_expanded = [y_train]

for dx, dy in ((1, 0), (-1, 0), (0, 1), (0, -1)):
    shifted_images = np.apply_along_axis(shift_digit, axis=1, arr=X_train, dx=dx, dy=dy)
    X_train_expanded.append(shifted_images)
    y_train_expanded.append(y_train)

X_train_expanded = np.concatenate(X_train_expanded)
y_train_expanded = np.concatenate(y_train_expanded)
X_train_expanded.shape, y_train_expanded.shape


len(X_train_expanded)


gs.best_params_


knn_clf_best = KNeighborsClassifier(n_neighbors=gs.best_params_['knnclf__n_neighbors'],
                                   weights=gs.best_params_['knnclf__weights'])


knn_clf_best.fit(X_train_expanded, y_train_expanded)


from sklearn.metrics import accuracy_score
y_preds = knn_clf_best.predict(X_test)

acc = accuracy_score(y_test, y_preds)



acc


ambiguous_digit = X_test.iloc[2700]
knn_clf_best.predict_proba([ambiguous_digit])


plot_digit_s(ambiguous_digit)




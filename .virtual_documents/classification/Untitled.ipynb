import pandas as pd

df = pd.read_csv('../datasets/data_breast_cancer.csv')


df


df.drop('id', axis=1, inplace=True)


df


df['diagnosis'] = df['diagnosis'].map({'M': 1, 'B': 0})



import seaborn as sns
import matplotlib.pyplot as plt

# Scatter plot
sns.scatterplot(data=df, x='radius_mean', y='concavity_mean', hue='diagnosis', palette={0: 'blue', 1: 'red'})
plt.xlabel('Radius Mean')
plt.ylabel('Concavity Mean')
plt.title('Scatter Plot of Radius Mean vs. Concavity Mean')
plt.legend(title='Diagnosis', loc='upper right', labels=['Malignant', 'Benign'])
plt.show()



sns.scatterplot(data=df, x='perimeter_mean', y='compactness_mean', hue='diagnosis', palette={0: 'blue', 1: 'red'})
plt.xlabel('Radius perimeter_mean')
plt.ylabel('compactness_mean Mean')
plt.title('Scatter Plot of Radius Mean vs. Concavity Mean')
plt.legend(title='Diagnosis', loc='upper right', labels=['Malignant','Benign'])
plt.show()


grouped_data = df.groupby('radius_mean')['diagnosis'].value_counts().unstack().fillna(0)

# Display the grouped data
print(grouped_data)


df.drop('Unnamed: 32', axis=1, inplace=True)


df.columns


from sklearn.svm import LinearSVC, SVC
from sklearn.model_selection import train_test_split
from sklearn.linear_model import SGDClassifier

X = df.drop('diagnosis', axis=1)
y = df['diagnosis']

X_train, X_test, y_train, y_test = train_test_split(X, y, test_size=0.2, random_state=42)

lin_svc = LinearSVC()
svc = SVC()
SGD = SGDClassifier()

lin_svc.fit(X_train, y_train)
svc.fit(X_train, y_train)
SGD.fit(X_train, y_train)

lin_svc.score(X_test, y_test)



svc.score(X_test, y_test)



SGD.score(X_test, y_test)


from sklearn.datasets import fetch_openml 
mnist = fetch_openml('mnist_784', version=1) 
mnist.keys()


X, y = mnist['data'], mnist['target']

X_train, X_test, y_train, y_test = train_test_split(X, y, test_size=0.2, random_state=42)

svc = SVC()

svc.fit(X_train, y_train)

svc.score(X_test, y_test)


from sklearn.multiclass import OneVsRestClassifier
from sklearn.metrics import accuracy_score
from sklearn.pipeline import Pipeline

X_train, X_test, y_train, y_test = train_test_split(X, y, test_size=0.2, random_state=42)

X_train_partial, X_val, y_train_partial, y_val = train_test_split(X_train, y_train, test_size=0.2, random_state=42)

ovr_classifier = OneVsRestClassifier(svc)

ovr_classifier.fit(X_train_partial, y_train_partial)


from sklearn.metrics import confusion_matrix

y_pred = ovr_classifier.predict(X_test)
cm = confusion_matrix(y_test, y_pred)

# Plot the confusion matrix using seaborn
plt.figure(figsize=(8, 6))
sns.heatmap(cm, annot=True, fmt='d', cmap='Blues', cbar=False)
plt.xlabel('Predicted Labels')
plt.ylabel('True Labels')
plt.title('Confusion Matrix')
plt.show()




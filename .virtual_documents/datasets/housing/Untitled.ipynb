import pandas as pd
import numpy as np
import os
import tarfile
import urllib

df = pd.read_csv('../datasets/car-sales-extended-missing-data.csv')


df




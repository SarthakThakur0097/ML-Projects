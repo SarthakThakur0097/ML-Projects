import pandas as pd
import numpy as np
import matplotlib.pyplot as plt

df = pd.read_csv("../datasets/car-sales-extended-missing-data.csv")


df = df.dropna(subset=['Price'])


df.isna().sum()


plt.scatter(df['Odometer (KM)'], df['Price'], label='Price to Odometer')
plt.xlabel('Price')
plt.ylabel('Odemeter (KM)')
plt.show()


for make in df['Make'].unique():
    average_price = df[df['Make'] == make]['Price'].mean()
    print(f'Average price for {make}: {average_price}')



df


from sklearn.impute import SimpleImputer
from sklearn.preprocessing import OneHotEncoder
from sklearn.compose import ColumnTransformer
from sklearn.preprocessing import StandardScaler
from sklearn.pipeline import Pipeline

X = df.drop('Price', axis=1)
y = df['Price']

num_attribs = ['Odometer (KM)', 'Doors']
num_df = df[num_attribs]

scaler = StandardScaler()

cat_attribs = ['Make', 'Colour']
cat_df = df[cat_attribs]

num_imputer = SimpleImputer(strategy='mean')
one_hot = OneHotEncoder()

preprocessor = ColumnTransformer([('cat_transformer', one_hot, cat_attribs),
                                  ('num_transformer', num_imputer, num_attribs)],
                                remainder='passthrough')


from sklearn.model_selection import train_test_split
from sklearn.svm import SVR
from sklearn.linear_model import LinearRegression
from sklearn.ensemble import RandomForestRegressor
from sklearn.model_selection import cross_val_score

X_train, X_test, y_train, y_test = train_test_split(X_transformed, y, test_size=0.2, random_state=42)
model = RandomForestRegressor()

pipeline = Pipeline([('preprocessor', preprocessor),
                    ('model', model)])



from sklearn.model_selection import GridSearchCV

param_grid = {'model__n_estimators': np.arange(1, 10, 1),
              'model__max_depth': np.arange(1, 10, 1),
              'model__min_samples_split': np.arange(2, 6, 1),
              'model__min_samples_leaf': np.arange(1, 5, 1)}

gs = GridSearchCV(pipeline, param_grid)

gs.fit(X, y)



gs.best_params_


cv_results = gs.cv_results_


gs.cv_results_.keys()


print(np.mean(gs.cv_results_['mean_test_score']))



